{
  "nbformat": 4,
  "nbformat_minor": 0,
  "metadata": {
    "colab": {
      "provenance": []
    },
    "kernelspec": {
      "name": "python3",
      "display_name": "Python 3"
    },
    "language_info": {
      "name": "python"
    }
  },
  "cells": [
    {
      "cell_type": "markdown",
      "source": [
        "# Assignment 7: Exploring List Operations and Traversals\n",
        "\n",
        "```\n",
        "Instruction:\n",
        "1. You are required to implement 5 functions.\n",
        "2. Each function is worth 5 points\n",
        "3. You are already given test case. Do not touch or change the test code.\n",
        "4. If you implement your code correctly, the test cases in the test code will all pass and you will earn full credit.\n",
        "5. You should not be using the advanced concepts we have not covered in the class. For example, do not use \"sets\". And do not use \"list comprehension\".  You are required to use \"list methods\" and \"traversals\".\n",
        "6. It is a good coding practice to focus on one method and write your own test code to ensure that your method code is correct.\n",
        "7. Take baby steps! Do this for each function - (a) Implement one function (b) write your own code for testing (c) then run the test code I provided.\n",
        "```"
      ],
      "metadata": {
        "id": "rMuuyBksx8HD"
      }
    },
    {
      "cell_type": "code",
      "source": [
        "#@title Implement these 5 functions per the documentation given.\n",
        "def sum_of_evens(lst):\n",
        "    \"\"\"Returns the sum of all even numbers in a list.\"\"\"\n",
        "    sum_of_evens = []\n",
        "    for n in lst:\n",
        "      if n % 2 == 0:\n",
        "        sum_of_evens=sum_of_evens+[n]\n",
        "    return sum(sum_of_evens)\n",
        "\n",
        "def remove_duplicates(lst):\n",
        "    \"\"\"Removes duplicate values from a list while maintaining order.\"\"\"\n",
        "    #Write your code here\n",
        "    final_list = []\n",
        "    for item in lst:\n",
        "        if item not in final_list:\n",
        "            final_list.append(item)\n",
        "    return final_list\n",
        "\n",
        "def list_intersection(lst1, lst2):\n",
        "    \"\"\"Returns a new list containing only elements that appear in both lists.\"\"\"\n",
        "    #for x in range(len(lst1)):\n",
        "      #if lst1[x] != lst2[x]:\n",
        "        #lst1.remove(lst1[x])\n",
        "    #return lst1\n",
        "    lst=[item for item in lst1 if item in lst2]\n",
        "    final_list = []\n",
        "    for item in lst:\n",
        "        if item not in final_list:\n",
        "            final_list.append(item)\n",
        "    return final_list\n",
        "\n",
        "def most_frequent(lst):\n",
        "    \"\"\"Finds the most frequent element in the list.\"\"\"\n",
        "    total=[]\n",
        "    for x in lst:\n",
        "      lst.count(x)\n",
        "      total.append(lst.count(x))\n",
        "    y=max(total)\n",
        "    for x in lst:\n",
        "      if lst.count(x)==y:\n",
        "        return x\n",
        "\n",
        "def max_gap(lst):\n",
        "    \"\"\"Finds the largest gap between consecutive elements in a sorted list.\"\"\"\n",
        "    sorted_list = sorted(lst)\n",
        "    if len(sorted_list) < 2:\n",
        "        return None\n",
        "    max_gap = sorted_list[1] - sorted_list[0]\n",
        "    for i in range(1, len(sorted_list) - 1):\n",
        "        gap = sorted_list[i + 1] - sorted_list[i]\n",
        "        if gap > max_gap:\n",
        "            max_gap = gap\n",
        "    return max_gap\n"
      ],
      "metadata": {
        "id": "d__pqZrqzMkO"
      },
      "execution_count": null,
      "outputs": []
    },
    {
      "cell_type": "code",
      "source": [
        "#@title Test code: Do not change this code\n",
        "# If your program works correctly, you will get 25 points\n",
        "def run_tests():\n",
        "    total_score = 0\n",
        "    max_score = 25  # 5 functions * 5 points each\n",
        "\n",
        "    def grade_function(func, test_cases):\n",
        "        score = 5\n",
        "        for i, (inputs, expected) in enumerate(test_cases):\n",
        "            result = func(*inputs) if isinstance(inputs, tuple) else func(inputs)\n",
        "            if result != expected:\n",
        "                print(f\"❌ Test {i+1} failed for {func.__name__}: Expected {expected}, got {result}\")\n",
        "                score -= 1\n",
        "        return score\n",
        "\n",
        "    # Test cases for sum_of_evens\n",
        "    test_sum_of_evens = [\n",
        "        ([1, 2, 3, 4, 5, 6], 12),\n",
        "        ([2, 4, 6, 8, 10], 30),\n",
        "        ([1, 3, 5, 7], 0),\n",
        "        ([0, 2, -4, -6], -8),\n",
        "        ([10], 10)\n",
        "    ]\n",
        "    total_score += grade_function(sum_of_evens, test_sum_of_evens)\n",
        "\n",
        "    # Test cases for remove_duplicates\n",
        "    test_remove_duplicates = [\n",
        "        ([1, 2, 2, 3, 3, 3, 4], [1, 2, 3, 4]),\n",
        "        ([5, 5, 5, 5], [5]),\n",
        "        ([], []),\n",
        "        ([1, 2, 3, 4, 5], [1, 2, 3, 4, 5]),\n",
        "        ([10, 20, 10, 30, 20], [10, 20, 30])\n",
        "    ]\n",
        "    total_score += grade_function(remove_duplicates, test_remove_duplicates)\n",
        "\n",
        "    # Test cases for list_intersection\n",
        "    test_list_intersection = [\n",
        "        (([1, 2, 3, 4], [3, 4, 5, 6]), [3, 4]),\n",
        "        (([7, 8, 9], [10, 11, 12]), []),\n",
        "        (([1, 1, 2, 2], [2, 2, 3, 3]), [2]),\n",
        "        (([], [1, 2, 3]), []),\n",
        "        (([5, 6, 7, 8], [6, 7, 8, 9]), [6, 7, 8])\n",
        "    ]\n",
        "    total_score += grade_function(list_intersection, test_list_intersection)\n",
        "\n",
        "    # Test cases for most_frequent\n",
        "    test_most_frequent = [\n",
        "        ([1, 3, 3, 3, 5, 5, 5, 5], 5),\n",
        "        ([7, 8, 9, 7, 7, 9, 9, 9], 9),\n",
        "        ([2, 2, 2, 2, 2], 2),\n",
        "        ([1, 2, 3, 4, 5], 1),  # First unique element\n",
        "        ([10, 20, 30, 10, 20, 10], 10)\n",
        "    ]\n",
        "    total_score += grade_function(most_frequent, test_most_frequent)\n",
        "\n",
        "    # Test cases for max_gap\n",
        "    test_max_gap = [\n",
        "        ([3, 8, 1, 5, 12], 4),  # Between 8 and 12\n",
        "        ([10, 20, 30, 40], 10),\n",
        "        ([1, 2, 3, 4], 1),\n",
        "        ([5, 15, 25, 50], 25),  # Between 25 and 50\n",
        "        ([7], None)  # Not enough elements\n",
        "    ]\n",
        "    total_score += grade_function(max_gap, test_max_gap)\n",
        "\n",
        "    print(\"\\nFinal Score:\", total_score, \"/\", max_score)\n",
        "\n",
        "# Run the test suite\n",
        "run_tests()\n"
      ],
      "metadata": {
        "colab": {
          "base_uri": "https://localhost:8080/"
        },
        "id": "zTUK58BcxvoV",
        "outputId": "a2940c5b-07f6-49f2-e402-1787687b1bd6"
      },
      "execution_count": null,
      "outputs": [
        {
          "output_type": "stream",
          "name": "stdout",
          "text": [
            "\n",
            "Final Score: 25 / 25\n"
          ]
        }
      ]
    }
  ]
}