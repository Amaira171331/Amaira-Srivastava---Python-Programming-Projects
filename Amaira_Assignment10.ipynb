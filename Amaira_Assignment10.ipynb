{
  "nbformat": 4,
  "nbformat_minor": 0,
  "metadata": {
    "colab": {
      "provenance": []
    },
    "kernelspec": {
      "name": "python3",
      "display_name": "Python 3"
    },
    "language_info": {
      "name": "python"
    }
  },
  "cells": [
    {
      "cell_type": "code",
      "execution_count": null,
      "metadata": {
        "id": "WYndPxKow_VW",
        "colab": {
          "base_uri": "https://localhost:8080/"
        },
        "outputId": "67404099-3511-4fb4-dde6-db66aaa23ded"
      },
      "outputs": [
        {
          "output_type": "stream",
          "name": "stdout",
          "text": [
            "What is the capital of New Hampshire?concord\n",
            "What is the capital of Mississippi?jackson\n",
            "What is the capital of North Carolina?raleigh\n",
            "What is the capital of Kentucky?kentucky city\n",
            "What is the capital of Nevada?boys\n",
            "What is the capital of Kansas?kansas city\n",
            "What is the capital of Texas?dallas\n",
            "What is the capital of Alaska?juneua\n",
            "What is the capital of North Carolina?raleigh\n",
            "What is the capital of Idaho?boyse\n",
            "dict_values(['New Hampshire', 'Mississippi', 'North Carolina', 'Kentucky', 'Nevada', 'Kansas', 'Texas', 'Alaska', 'North Carolina', 'Idaho'])\n",
            "Correct: 0\n",
            "Incorrect: 10\n"
          ]
        }
      ],
      "source": [
        "import random\n",
        "us_states={\n",
        "    \"Alabama\": \"Montgomery\",\n",
        "    \"Alaska\": \"Juneau\",\n",
        "    \"Arizona\": \"Phoenix\",\n",
        "    \"Arkansas\": \"Little Rock\",\n",
        "    \"California\": \"Sacramento\",\n",
        "    \"Colorado\": \"Denver\",\n",
        "    \"Connecticut\": \"Hartford\",\n",
        "    \"Delaware\": \"Dover\",\n",
        "    \"Florida\": \"Tallahassee\",\n",
        "    \"Georgia\": \"Atlanta\",\n",
        "    \"Hawaii\": \"Honolulu\",\n",
        "    \"Idaho\": \"Boise\",\n",
        "    \"Illinois\": \"Springfield\",\n",
        "    \"Indiana\": \"Indianapolis\",\n",
        "    \"Iowa\": \"Des Moines\",\n",
        "    \"Kansas\": \"Topeka\",\n",
        "    \"Kentucky\": \"Frankfort\",\n",
        "    \"Louisiana\": \"Baton Rouge\",\n",
        "    \"Maine\": \"Augusta\",\n",
        "    \"Maryland\": \"Annapolis\",\n",
        "    \"Massachusetts\": \"Boston\",\n",
        "    \"Michigan\": \"Lansing\",\n",
        "    \"Minnesota\": \"Saint Paul\",\n",
        "    \"Mississippi\": \"Jackson\",\n",
        "    \"Missouri\": \"Jefferson City\",\n",
        "    \"Montana\": \"Helena\",\n",
        "    \"Nebraska\": \"Lincoln\",\n",
        "    \"Nevada\": \"Carson City\",\n",
        "    \"New Hampshire\": \"Concord\",\n",
        "    \"New Jersey\": \"Trenton\",\n",
        "    \"New Mexico\": \"Santa Fe\",\n",
        "    \"New York\": \"Albany\",\n",
        "    \"North Carolina\": \"Raleigh\",\n",
        "    \"North Dakota\": \"Bismarck\",\n",
        "    \"Ohio\": \"Columbus\",\n",
        "    \"Oklahoma\": \"Oklahoma City\",\n",
        "    \"Oregon\": \"Salem\",\n",
        "    \"Pennsylvania\": \"Harrisburg\",\n",
        "    \"Rhode Island\": \"Providence\",\n",
        "    \"South Carolina\": \"Columbia\",\n",
        "    \"South Dakota\": \"Pierre\",\n",
        "    \"Tennessee\": \"Nashville\",\n",
        "    \"Texas\": \"Austin\",\n",
        "    \"Utah\": \"Salt Lake City\",\n",
        "    \"Vermont\": \"Montpelier\",\n",
        "    \"Virginia\": \"Richmond\",\n",
        "    \"Washington\": \"Olympia\",\n",
        "    \"West Virginia\": \"Charleston\",\n",
        "    \"Wisconsin\": \"Madison\",\n",
        "    \"Wyoming\": \"Cheyenne\"\n",
        "}\n",
        "\n",
        "states_used={}\n",
        "correct=0\n",
        "incorrect=0\n",
        "for elem in range(1,11):\n",
        "    state=random.choice(list(us_states.keys()))\n",
        "    states_used[elem]=state\n",
        "    capital=input(\"What is the capital of \"+state+\"?\")\n",
        "    if (capital==us_states[state]):\n",
        "      correct=correct+1\n",
        "    else:\n",
        "      incorrect=incorrect+1\n",
        "print(states_used.values())\n",
        "states_used.clear()\n",
        "print(\"Correct:\",correct)\n",
        "print(\"Incorrect:\",incorrect)"
      ]
    }
  ]
}