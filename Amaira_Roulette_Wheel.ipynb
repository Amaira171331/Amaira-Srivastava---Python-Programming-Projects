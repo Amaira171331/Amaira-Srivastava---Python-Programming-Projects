{
  "nbformat": 4,
  "nbformat_minor": 0,
  "metadata": {
    "colab": {
      "provenance": []
    },
    "kernelspec": {
      "name": "python3",
      "display_name": "Python 3"
    },
    "language_info": {
      "name": "python"
    }
  },
  "cells": [
    {
      "cell_type": "code",
      "execution_count": null,
      "metadata": {
        "colab": {
          "base_uri": "https://localhost:8080/"
        },
        "id": "FLoVmYyyYoe_",
        "outputId": "eb359ba6-0a53-4ce9-fcb7-295050c58e75"
      },
      "outputs": [
        {
          "output_type": "stream",
          "name": "stdout",
          "text": [
            "Enter a pocket number: 35\n",
            "The pocket is black\n"
          ]
        }
      ],
      "source": [
        "#@title 9.Roulette Wheel Colors\n",
        "\n",
        "'''\n",
        "On a roulette wheel, the pockets are numbered from 0 to 36. The colors of the pockets are as follows:\n",
        "  - Pocket 0 is green.\n",
        "  - For pockets 1 through 10, the odd-numbered pockets are red and the even-numbered pockets are black.\n",
        "  - For pockets 11 through 18, the odd-numbered pockets are black and the even-numbered pockets are red.\n",
        "  - For pockets 19 through 28, the odd-numbered pockets are red and the even-numbered pockets are black.\n",
        "  - For pockets 29 through 36, the odd-numbered pockets are black and the even-numbered pockets are red.\n",
        "Write a program that asks the user to enter a pocket number and displays whether the pocket is green, red, or black.\n",
        "The program should display an error message if the user enters a number that is outside the range of 0 through 36.\n",
        "'''\n",
        "pocket_number=int(input(\"Enter a pocket number: \"))\n",
        "if (pocket_number>=0 and pocket_number<=36):\n",
        "\n",
        "  if (pocket_number==0):\n",
        "    print(\"The pocket is green\")\n",
        "\n",
        "  elif ((pocket_number>=1 and pocket_number<=10) or (pocket_number>=19 and pocket_number<=28)):\n",
        "    if (pocket_number%2==0):\n",
        "      print(\"The pocket is black\")\n",
        "    else:\n",
        "      print(\"The pocket is red\")\n",
        "\n",
        "  elif ((pocket_number>=11 and pocket_number<=18) or (pocket_number>=29 and pocket_number<=36)):\n",
        "    if (pocket_number%2==0):\n",
        "      print(\"The pocket is red\")\n",
        "    else:\n",
        "      print(\"The pocket is black\")\n",
        "else:\n",
        "  print(\"The number your entered is out of the range\")"
      ]
    },
    {
      "cell_type": "code",
      "source": [
        "color = \"black\"\n",
        "\n",
        "pocket_number=int(input(\"Enter a pocket number: \"))\n",
        "\n",
        "if (pocket_number>=0 and pocket_number<=36):\n",
        "\n",
        "  if (pocket_number==0):\n",
        "    color = \"green\"\n",
        "\n",
        "  elif ((pocket_number>=1 and pocket_number<=10) or (pocket_number>=19 and pocket_number<=28)):\n",
        "    if (pocket_number%==0):\n",
        "      color=\"red\"\n",
        "\n",
        "  elif ((pocket_number>=11 and pocket_number<=18) or (pocket_number>=29 and pocket_number<=36)):\n",
        "    if (pocket_number%2==0):\n",
        "      color=\"red\"\n",
        "  print(color)\n",
        "else:\n",
        "  print(\"The number your entered is out of the range\")\n"
      ],
      "metadata": {
        "colab": {
          "base_uri": "https://localhost:8080/"
        },
        "id": "OtYyg2EEcUiq",
        "outputId": "757b8463-d9ff-4850-8ed5-2a345532da41"
      },
      "execution_count": null,
      "outputs": [
        {
          "output_type": "stream",
          "name": "stdout",
          "text": [
            "Enter a pocket number: 35\n",
            "black\n"
          ]
        }
      ]
    }
  ]
}