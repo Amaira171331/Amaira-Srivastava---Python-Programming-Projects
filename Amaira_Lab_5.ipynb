{
  "nbformat": 4,
  "nbformat_minor": 0,
  "metadata": {
    "colab": {
      "provenance": []
    },
    "kernelspec": {
      "name": "python3",
      "display_name": "Python 3"
    },
    "language_info": {
      "name": "python"
    }
  },
  "cells": [
    {
      "cell_type": "markdown",
      "source": [],
      "metadata": {
        "id": "YSkIMheLVsEZ"
      }
    },
    {
      "cell_type": "code",
      "execution_count": null,
      "metadata": {
        "id": "f_hDowpfVoHN"
      },
      "outputs": [],
      "source": [
        "def squirrel_play(temp, is_summer):\n",
        "  if (is_summer == True):\n",
        "    if (temp>=60 and temp<=100):\n",
        "      result=True\n",
        "    else:\n",
        "      result=False\n",
        "  else:\n",
        "    if (temp>=60 and temp<=90):\n",
        "      result=True\n",
        "    else:\n",
        "      result=False\n",
        "  return result\n",
        "\n",
        "\n",
        "\n",
        "\n",
        "\n"
      ]
    },
    {
      "cell_type": "code",
      "source": [
        "def caught_speeding(speed, is_birthday):\n",
        "  if is_birthday==False:\n",
        "    if (speed<=60):\n",
        "      return 0\n",
        "    elif (speed>=61 and speed<=80):\n",
        "      return 1\n",
        "    elif (speed>=81):\n",
        "      return 2\n",
        "  elif is_birthday==True:\n",
        "    if (speed<=65):\n",
        "      return 0\n",
        "    elif (speed>=66 and speed<=85):\n",
        "      return 1\n",
        "    elif (speed>=86):\n",
        "      return 2\n",
        "\n",
        "\n"
      ],
      "metadata": {
        "id": "ijEyyXVXY8jF"
      },
      "execution_count": null,
      "outputs": []
    },
    {
      "cell_type": "code",
      "source": [
        "def sorta_sum(a, b):\n",
        "  x=a+b\n",
        "  if (x>=10 and x<=19):\n",
        "    return 20\n",
        "  else:\n",
        "    return x\n"
      ],
      "metadata": {
        "id": "ne5SvaPNY9ge"
      },
      "execution_count": null,
      "outputs": []
    },
    {
      "cell_type": "code",
      "source": [
        "def alarm_clock(day, vacation):\n",
        "  if vacation==True:\n",
        "    if day==0 or day==6:\n",
        "      return \"off\"\n",
        "    elif day>=1 and day<=5:\n",
        "      return \"10:00\"\n",
        "  else:\n",
        "    if day==0 or day==6:\n",
        "      return \"10:00\"\n",
        "    elif day>=1 and day<=5:\n",
        "      return \"7:00\"\n"
      ],
      "metadata": {
        "id": "ILsrxamJZU1O"
      },
      "execution_count": null,
      "outputs": []
    },
    {
      "cell_type": "code",
      "source": [
        "def near_ten(num):\n",
        "  if ((num%10)==2 or (num%10)==1 or (num%10)==0 or (num%10)==8 or (num%10)==9):\n",
        "    return True\n",
        "  else:\n",
        "    return False\n"
      ],
      "metadata": {
        "id": "M7uWGhRYcJZb"
      },
      "execution_count": null,
      "outputs": []
    }
  ]
}