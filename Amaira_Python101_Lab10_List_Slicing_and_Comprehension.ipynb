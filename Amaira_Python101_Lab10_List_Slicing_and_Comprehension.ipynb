{
  "nbformat": 4,
  "nbformat_minor": 0,
  "metadata": {
    "colab": {
      "provenance": [],
      "toc_visible": true
    },
    "kernelspec": {
      "name": "python3",
      "display_name": "Python 3"
    },
    "language_info": {
      "name": "python"
    }
  },
  "cells": [
    {
      "cell_type": "code",
      "execution_count": null,
      "metadata": {
        "colab": {
          "base_uri": "https://localhost:8080/"
        },
        "id": "IzAaoeXnx1NT",
        "outputId": "2c378e47-349b-4933-8c83-b9e63b110819"
      },
      "outputs": [
        {
          "output_type": "stream",
          "name": "stdout",
          "text": [
            "sliced_list is correct!\n",
            "doubles_of_odds is correct!\n",
            "first, second and third are correct!\n",
            "5 is in combined_list!\n",
            "Your score is: 5\n"
          ]
        }
      ],
      "source": [
        "#@title Lab 10 (List Slicing, List Comprehension, and List Unpacking)\n",
        "\n",
        "# After filling in all the above blanks, run the code.\n",
        "# If the implementation is all correct, you will get 10 points\n",
        "\n",
        "#What to submit?\n",
        "# Submit the *ipynb file\n",
        "# Submit the PDF showing the output of the execution\n",
        "\n",
        "# Start with an initial list from 1 to 10\n",
        "my_list = list(range(1,10))\n",
        "\n",
        "# Slice my_list to get elements [3, 4, 5, 6] into sliced_list\n",
        "sliced_list = [x for x in my_list if x>=3 and x<=6]\n",
        "\n",
        "# Slice my_list to get the last three elements into last_three_elements\n",
        "last_three_elements = [x for x in my_list if x>7]\n",
        "\n",
        "# Create a new list using list comprehension that contains squares of even numbers from my_list. The new list should be called squares_of_evens.\n",
        "# The new list should contain [4, 16, 36, 64, 100]\n",
        "squares_of_evens = [x*x for x in my_list if x%2==0]\n",
        "\n",
        "# Create a new list using list comprehension that contains double of odd numbers from my_list. THe new list double_of_odds should be [2, 6, 10, 14, 18]\n",
        "doubles_of_odds = [x*2 for x in my_list if x%2!=0]\n",
        "\n",
        "# Combine the sliced_list and last_three_elements to create a new list\n",
        "# called combined_list. It should be  [3, 4, 5, 6, 8, 9, 10]\n",
        "combined_list = sliced_list + last_three_elements\n",
        "\n",
        "# Unpack the first three elements of combined_list into separate variables\n",
        "# called first, second and third. You can name all the left over variables as remaining\n",
        "first = combined_list[0]\n",
        "second = combined_list[1]\n",
        "third = combined_list[2]\n",
        "\n",
        "# Check if the number 5 is in the combined_list\n",
        "five=[x for x in combined_list if x==5]\n",
        "if (five==[5]):\n",
        "  is_five_in_combined = True\n",
        "else:\n",
        "  is_five_in_combined = False\n",
        "\n",
        "# After filling in all the above blanks, run the code.\n",
        "# If the implementation is all correct, you will get 10 points\n",
        "\n",
        "#=====================================\n",
        "# Do not change the following code\n",
        "# Auto-Test Function to check list contents\n",
        "#=====================================\n",
        "\n",
        "marks = 0\n",
        "if my_list == [1, 2, 3, 4, 5, 6, 7, 8, 9, 10]:\n",
        "    print(\"my_list is correct!\"); marks += 1\n",
        "if sliced_list == [3, 4, 5, 6]:\n",
        "    print(\"sliced_list is correct!\"); marks += 1\n",
        "if last_three_elements == [8, 9, 10]:\n",
        "   print(\"last_three_elements is correct!\"); marks += 1\n",
        "if squares_of_evens == [4, 16, 36, 64, 100]:\n",
        "   print(\"squares_of_evens is correct!\"); marks += 2\n",
        "if doubles_of_odds == [2, 6, 10, 14, 18]:\n",
        "   print(\"doubles_of_odds is correct!\"); marks += 2\n",
        "if combined_list == [3, 4, 5, 6, 8, 9, 10]:\n",
        "   print(\"combined_list is correct!\"); marks += 1\n",
        "if first == 3 and second == 4 and third == 5:\n",
        "   print(\"first, second and third are correct!\"); marks += 1\n",
        "if is_five_in_combined:\n",
        "   print(\"5 is in combined_list!\"); marks += 1\n",
        "\n",
        "print(\"Your score is:\", marks)\n"
      ]
    }
  ]
}