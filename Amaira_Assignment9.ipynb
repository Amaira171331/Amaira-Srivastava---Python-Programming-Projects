{
  "nbformat": 4,
  "nbformat_minor": 0,
  "metadata": {
    "colab": {
      "provenance": []
    },
    "kernelspec": {
      "name": "python3",
      "display_name": "Python 3"
    },
    "language_info": {
      "name": "python"
    }
  },
  "cells": [
    {
      "cell_type": "code",
      "execution_count": null,
      "metadata": {
        "colab": {
          "base_uri": "https://localhost:8080/"
        },
        "collapsed": true,
        "id": "cMQvmARqj1kJ",
        "outputId": "9d5fa8af-456c-4dff-e0b6-8469559f2833"
      },
      "outputs": [
        {
          "output_type": "stream",
          "name": "stdout",
          "text": [
            "Enter the first sentence: hell\n",
            "Enter the second sentence: hi\n",
            "2\n"
          ]
        }
      ],
      "source": [
        "#1. What is the total list of words appearing in both the sentences?\n",
        "sentence1=input(\"Enter the first sentence: \")\n",
        "sentence2=input(\"Enter the second sentence: \")\n",
        "sentence1.replace(\",\",\"\")\n",
        "sentence2.replace(\",\",\"\")\n",
        "sentence1.replace(\".\",\"\")\n",
        "sentence2.replace(\".\",\"\")\n",
        "sentence1.replace(\"?\",\"\")\n",
        "sentence2.replace(\"?\",\"\")\n",
        "sentence1.replace(\"!\",\"\")\n",
        "sentence2.replace(\"!\",\"\")\n",
        "sentence1=set(sentence1.split())\n",
        "sentence2=set(sentence2.split())\n",
        "total=sentence1.union(sentence2)\n",
        "print(len(total))"
      ]
    },
    {
      "cell_type": "code",
      "source": [
        "#The words that appear in both sentences.\n",
        "sentence1=input(\"Enter the first sentence: \")\n",
        "sentence2=input(\"Enter the second sentence: \")\n",
        "sentence1=set(sentence1.split())\n",
        "sentence2=set(sentence2.split())\n",
        "total=sentence1.intersection(sentence2)\n",
        "print(total)"
      ],
      "metadata": {
        "id": "5jDNWKskj9ps",
        "outputId": "6e28365e-c34d-437a-9aac-8ff2b73b4801",
        "colab": {
          "base_uri": "https://localhost:8080/"
        }
      },
      "execution_count": null,
      "outputs": [
        {
          "output_type": "stream",
          "name": "stdout",
          "text": [
            "Enter the first sentence: hello\n",
            "Enter the second sentence: hi\n",
            "set()\n"
          ]
        }
      ]
    },
    {
      "cell_type": "code",
      "source": [
        "#The words that appear in the first sentence but not the second.\n",
        "sentence1=input(\"Enter the first sentence: \")\n",
        "sentence2=input(\"Enter the second sentence: \")\n",
        "sentence1=set(sentence1.split())\n",
        "sentence2=set(sentence2.split())\n",
        "total=sentence1.difference(sentence2)\n",
        "print(total)"
      ],
      "metadata": {
        "id": "zesr2d-9m5Ot",
        "outputId": "5dd8eb5f-654a-4596-9d19-71688e2d0dee",
        "colab": {
          "base_uri": "https://localhost:8080/"
        }
      },
      "execution_count": null,
      "outputs": [
        {
          "output_type": "stream",
          "name": "stdout",
          "text": [
            "Enter the first sentence: hello hi\n",
            "Enter the second sentence: hi\n",
            "{'hello'}\n"
          ]
        }
      ]
    },
    {
      "cell_type": "code",
      "source": [
        "#The words that appear in the second sentence but not the first.\n",
        "sentence1=input(\"Enter the first sentence: \")\n",
        "sentence2=input(\"Enter the second sentence: \")\n",
        "sentence1=set(sentence1.split())\n",
        "sentence2=set(sentence2.split())\n",
        "total=sentence2.difference(sentence1)\n",
        "print(total)"
      ],
      "metadata": {
        "id": "t18R9JOAm5pz",
        "outputId": "883f784c-f5a3-422c-c661-5f7bfce74d40",
        "colab": {
          "base_uri": "https://localhost:8080/"
        }
      },
      "execution_count": null,
      "outputs": [
        {
          "output_type": "stream",
          "name": "stdout",
          "text": [
            "Enter the first sentence: hello hi helo\n",
            "Enter the second sentence: hello helo\n",
            "set()\n"
          ]
        }
      ]
    },
    {
      "cell_type": "code",
      "source": [
        "#The words that appear in either the first or second sentence, but not both.\n",
        "sentence1=input(\"Enter the first sentence: \")\n",
        "sentence2=input(\"Enter the second sentence: \")\n",
        "sentence1=set(sentence1.split())\n",
        "sentence2=set(sentence2.split())\n",
        "total=sentence1.symmetric_difference(sentence2)\n",
        "print(total)"
      ],
      "metadata": {
        "id": "EXoZZNfum6Bg"
      },
      "execution_count": null,
      "outputs": []
    }
  ]
}