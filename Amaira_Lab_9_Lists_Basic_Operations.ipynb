{
  "nbformat": 4,
  "nbformat_minor": 0,
  "metadata": {
    "colab": {
      "provenance": []
    },
    "kernelspec": {
      "name": "python3",
      "display_name": "Python 3"
    },
    "language_info": {
      "name": "python"
    }
  },
  "cells": [
    {
      "cell_type": "markdown",
      "source": [
        "# Lab 9: (Lists) Basic Operations\n",
        "\n",
        "Please see https://www.w3schools.com/python/python_ref_list.asp\n",
        "\n",
        "In this lab, you will be performing the basic list operations.\n",
        "\n",
        "Please review the documentation in this python code and fill in the code.\n",
        "\n",
        "If all your code is correct, then you will see the following output.\n",
        "\n",
        "List contents are correct!\n",
        "Last element is correct!\n",
        "Count of 1 is correct!\n",
        "Index of 20 is correct!\n",
        "List copy is correct!\n",
        "Your final score is:  10\n",
        "\n",
        "What to submit?\n",
        "\n",
        "1. Submit the *ipynb file\n",
        "\n",
        "\n",
        "\n",
        "\n"
      ],
      "metadata": {
        "id": "GU2zEdsOtaND"
      }
    },
    {
      "cell_type": "code",
      "source": [],
      "metadata": {
        "id": "uu25yqt5BvBT"
      },
      "execution_count": null,
      "outputs": []
    },
    {
      "cell_type": "code",
      "execution_count": null,
      "metadata": {
        "id": "Dc5VpaN3H_NX",
        "colab": {
          "base_uri": "https://localhost:8080/"
        },
        "outputId": "97e6ca46-af55-4e4c-bc35-4e315571ce36"
      },
      "outputs": [
        {
          "output_type": "stream",
          "name": "stdout",
          "text": [
            "List contents are correct!\n",
            "Last element is correct!\n",
            "Count of 1 is correct!\n",
            "Index of 20 is correct!\n",
            "List copy is correct!\n",
            "Your final score is:  10\n"
          ]
        }
      ],
      "source": [
        "#@title Lab 9 (Lists) Basic Operations\n",
        "\n",
        "# Start with an empty list\n",
        "my_list = []\n",
        "\n",
        "# Add the value `5` to `my_list`.\n",
        "my_list.append(5)\n",
        "\n",
        "# Extend `my_list` with `[1, 2, 3]`.\n",
        "my_list.extend([1, 2, 3])\n",
        "\n",
        "# Insert the value `10` at index `1` in `my_list`.\n",
        "my_list.insert(1,10)\n",
        "\n",
        "# Remove the first occurrence of `5` from `my_list`.\n",
        "my_list.remove(5)\n",
        "\n",
        "# Use the `pop` method to remove the last element from `my_list` and store it in a variable called `last_element`.\n",
        "last_element = my_list.pop()\n",
        "\n",
        "# Count how many times `1` appears in `my_list`and assign the result to a variable\n",
        "count_of_1 = my_list.count(1)\n",
        "\n",
        "# Clear all elements from `my_list`.\n",
        "my_list.clear()\n",
        "\n",
        "# Create a copy of `my_list` (which should be empty) and assign it to a new variable called `my_list_copy`.\n",
        "my_list_copy = my_list.copy()\n",
        "\n",
        "# Reinitialize `my_list` to `[5, 10, 15, 20, 25, 30]`.\n",
        "my_list = [5, 10, 15, 20, 25, 30]\n",
        "\n",
        "# Find the index of the element `20` in `my_list`.\n",
        "index_of_20 = my_list.index(20)\n",
        "\n",
        "# Sort `my_list` in ascending order.\n",
        "my_list.sort()\n",
        "\n",
        "# Reverse the order of elements in `my_list`.\n",
        "my_list.reverse()\n",
        "\n",
        "\n",
        "#=====================================\n",
        "# Do not change the following code\n",
        "# Auto-Test Function to check list contents\n",
        "#=====================================\n",
        "def auto_test(my_list, last_element, count_of_1, index_of_20, my_list_copy):\n",
        "    expected_last_element = 3  # Expected value of last_element\n",
        "    expected_count_of_1 = 1  # Expected count of 1\n",
        "\n",
        "    expected_list = [30, 25, 20, 15, 10, 5]\n",
        "    expected_index_of_20 = 3  # Expected index of 20\n",
        "    expected_copy = []  # Expected copy (empty)\n",
        "\n",
        "    marks = 0\n",
        "\n",
        "    if my_list == expected_list:\n",
        "        print(\"List contents are correct!\"); marks += 2\n",
        "    else:\n",
        "        print(f\"List contents are incorrect. Expected {expected_list}, but got {my_list}\")\n",
        "\n",
        "    if last_element == expected_last_element:\n",
        "        print(\"Last element is correct!\"); marks += 2\n",
        "    else:\n",
        "        print(f\"Last element is incorrect. Expected {expected_last_element}, but got {last_element}\")\n",
        "\n",
        "    if count_of_1 == expected_count_of_1:\n",
        "        print(\"Count of 1 is correct!\"); marks += 2\n",
        "    else:\n",
        "        print(f\"Count of 1 is incorrect. Expected {expected_count_of_1}, but got {count_of_1}\")\n",
        "\n",
        "    if index_of_20 == expected_index_of_20:\n",
        "        print(\"Index of 20 is correct!\"); marks += 2\n",
        "    else:\n",
        "        print(f\"Index of 20 is incorrect. Expected {expected_index_of_20}, but got {index_of_20}\")\n",
        "\n",
        "    if my_list_copy == expected_copy:\n",
        "        print(\"List copy is correct!\"); marks += 2\n",
        "    else:\n",
        "        print(f\"List copy is incorrect. Expected {expected_copy}, but got {my_list_copy}\")\n",
        "\n",
        "    # print the final score\n",
        "    print(\"Your final score is: \", marks)\n",
        "\n",
        "# Run the test function to check your work\n",
        "auto_test(my_list, last_element, count_of_1, index_of_20, my_list_copy)\n"
      ]
    }
  ]
}